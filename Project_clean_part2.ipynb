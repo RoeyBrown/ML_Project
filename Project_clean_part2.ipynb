{
 "cells": [
  {
   "cell_type": "code",
   "execution_count": 1,
   "id": "57d97426",
   "metadata": {},
   "outputs": [],
   "source": [
    "import pandas as pd\n",
    "import numpy as np\n",
    "import os"
   ]
  },
  {
   "cell_type": "code",
   "execution_count": 5,
   "id": "aa1d409b",
   "metadata": {},
   "outputs": [
    {
     "data": {
      "text/html": [
       "<div>\n",
       "<style scoped>\n",
       "    .dataframe tbody tr th:only-of-type {\n",
       "        vertical-align: middle;\n",
       "    }\n",
       "\n",
       "    .dataframe tbody tr th {\n",
       "        vertical-align: top;\n",
       "    }\n",
       "\n",
       "    .dataframe thead th {\n",
       "        text-align: right;\n",
       "    }\n",
       "</style>\n",
       "<table border=\"1\" class=\"dataframe\">\n",
       "  <thead>\n",
       "    <tr style=\"text-align: right;\">\n",
       "      <th></th>\n",
       "      <th>מס\"ד</th>\n",
       "      <th>שנת דיווח</th>\n",
       "      <th>שם מפעל</th>\n",
       "      <th>מספר מפעל</th>\n",
       "      <th>מחוז</th>\n",
       "      <th>רשות מקומית</th>\n",
       "      <th>ישוב</th>\n",
       "      <th>כתובת מפעל</th>\n",
       "      <th>נ\"צ X</th>\n",
       "      <th>נ\"צ Y</th>\n",
       "      <th>...</th>\n",
       "      <th>סוג טיפול בשפכים</th>\n",
       "      <th>יעד הזרמה של שפכים</th>\n",
       "      <th>כמות העברת פסולת לא מסוכנת לטיפול (טון)</th>\n",
       "      <th>כמות העברת פסולת לא מסוכנת לסילוק (טון)</th>\n",
       "      <th>שח\"מ העברות פסולת לא מסוכנת</th>\n",
       "      <th>כמות העברת פסולת מסוכנת לטיפול (טון)</th>\n",
       "      <th>כמות העברת פסולת מסוכנת לסילוק (טון)</th>\n",
       "      <th>שח\"מ העברות פסולת מסוכנת</th>\n",
       "      <th>יעד העברת פסולת מסוכנת לחו\"ל</th>\n",
       "      <th>תאריך דיווח</th>\n",
       "    </tr>\n",
       "  </thead>\n",
       "  <tbody>\n",
       "    <tr>\n",
       "      <th>11158</th>\n",
       "      <td>59225</td>\n",
       "      <td>2017</td>\n",
       "      <td>צח שרפון בע\"מ</td>\n",
       "      <td>52184</td>\n",
       "      <td>דרום</td>\n",
       "      <td>אשקלון</td>\n",
       "      <td>אשקלון</td>\n",
       "      <td>שד בר-לב חיים 23, אזור תעשיה הדרומי, אשקלון 78...</td>\n",
       "      <td>158325</td>\n",
       "      <td>615717</td>\n",
       "      <td>...</td>\n",
       "      <td>טיפול ביולוגי</td>\n",
       "      <td>מט\"ש אשקלון</td>\n",
       "      <td>0.0</td>\n",
       "      <td>285.1</td>\n",
       "      <td>מדידה - נתוני דיגום</td>\n",
       "      <td>34.2</td>\n",
       "      <td>42.1</td>\n",
       "      <td>מדידה - נתוני דיגום</td>\n",
       "      <td>פורטוגל חברת SISAV( ע\"י טביב)</td>\n",
       "      <td>2018-04-03</td>\n",
       "    </tr>\n",
       "    <tr>\n",
       "      <th>7368</th>\n",
       "      <td>39207</td>\n",
       "      <td>2017</td>\n",
       "      <td>מט\"ש ערוער</td>\n",
       "      <td>178001</td>\n",
       "      <td>דרום</td>\n",
       "      <td>ערערה בנגב</td>\n",
       "      <td>ערערה-בנגב</td>\n",
       "      <td>ערערה-בנגב 3002600</td>\n",
       "      <td>202087</td>\n",
       "      <td>564404</td>\n",
       "      <td>...</td>\n",
       "      <td>טיפול ביולוגי</td>\n",
       "      <td>מאגר</td>\n",
       "      <td>86.4</td>\n",
       "      <td>48.0</td>\n",
       "      <td>מדידה - נתוני דיגום</td>\n",
       "      <td>0.0</td>\n",
       "      <td>0.0</td>\n",
       "      <td>NaN</td>\n",
       "      <td>NaN</td>\n",
       "      <td>2018-03-12</td>\n",
       "    </tr>\n",
       "    <tr>\n",
       "      <th>2500</th>\n",
       "      <td>12539</td>\n",
       "      <td>2017</td>\n",
       "      <td>גת גבעת חיים אגודה שיתופית לשימורי תוצרת חקלאי...</td>\n",
       "      <td>54747</td>\n",
       "      <td>מרכז</td>\n",
       "      <td>עמק חפר</td>\n",
       "      <td>גבעת חיים (מאוחד)</td>\n",
       "      <td>גבעת חיים (מאוחד) 3893000</td>\n",
       "      <td>193990</td>\n",
       "      <td>699690</td>\n",
       "      <td>...</td>\n",
       "      <td>טיפול ביולוגי</td>\n",
       "      <td>מט\"ש מרץ עמק חפר</td>\n",
       "      <td>3323.7</td>\n",
       "      <td>0.0</td>\n",
       "      <td>מדידה – נטור רציף</td>\n",
       "      <td>83.3</td>\n",
       "      <td>0.0</td>\n",
       "      <td>מדידה – נטור רציף</td>\n",
       "      <td>NaN</td>\n",
       "      <td>2018-06-21</td>\n",
       "    </tr>\n",
       "  </tbody>\n",
       "</table>\n",
       "<p>3 rows × 35 columns</p>\n",
       "</div>"
      ],
      "text/plain": [
       "        מס\"ד  שנת דיווח                                            שם מפעל  \\\n",
       "11158  59225       2017                                      צח שרפון בע\"מ   \n",
       "7368   39207       2017                                         מט\"ש ערוער   \n",
       "2500   12539       2017  גת גבעת חיים אגודה שיתופית לשימורי תוצרת חקלאי...   \n",
       "\n",
       "       מספר מפעל  מחוז רשות מקומית               ישוב  \\\n",
       "11158      52184  דרום      אשקלון             אשקלון   \n",
       "7368      178001  דרום  ערערה בנגב         ערערה-בנגב   \n",
       "2500       54747  מרכז     עמק חפר  גבעת חיים (מאוחד)   \n",
       "\n",
       "                                              כתובת מפעל   נ\"צ X   נ\"צ Y  ...  \\\n",
       "11158  שד בר-לב חיים 23, אזור תעשיה הדרומי, אשקלון 78...  158325  615717  ...   \n",
       "7368                                  ערערה-בנגב 3002600  202087  564404  ...   \n",
       "2500                           גבעת חיים (מאוחד) 3893000  193990  699690  ...   \n",
       "\n",
       "      סוג טיפול בשפכים יעד הזרמה של שפכים  \\\n",
       "11158    טיפול ביולוגי        מט\"ש אשקלון   \n",
       "7368     טיפול ביולוגי               מאגר   \n",
       "2500     טיפול ביולוגי   מט\"ש מרץ עמק חפר   \n",
       "\n",
       "       כמות העברת פסולת לא מסוכנת לטיפול (טון)  \\\n",
       "11158                                      0.0   \n",
       "7368                                      86.4   \n",
       "2500                                    3323.7   \n",
       "\n",
       "      כמות העברת פסולת לא מסוכנת לסילוק (טון) שח\"מ העברות פסולת לא מסוכנת  \\\n",
       "11158                                   285.1         מדידה - נתוני דיגום   \n",
       "7368                                     48.0         מדידה - נתוני דיגום   \n",
       "2500                                      0.0           מדידה – נטור רציף   \n",
       "\n",
       "      כמות העברת פסולת מסוכנת לטיפול (טון)  \\\n",
       "11158                                 34.2   \n",
       "7368                                   0.0   \n",
       "2500                                  83.3   \n",
       "\n",
       "      כמות העברת פסולת מסוכנת לסילוק (טון) שח\"מ העברות פסולת מסוכנת  \\\n",
       "11158                                 42.1      מדידה - נתוני דיגום   \n",
       "7368                                   0.0                      NaN   \n",
       "2500                                   0.0        מדידה – נטור רציף   \n",
       "\n",
       "        יעד העברת פסולת מסוכנת לחו\"ל  תאריך דיווח  \n",
       "11158  פורטוגל חברת SISAV( ע\"י טביב)   2018-04-03  \n",
       "7368                             NaN   2018-03-12  \n",
       "2500                             NaN   2018-06-21  \n",
       "\n",
       "[3 rows x 35 columns]"
      ]
     },
     "execution_count": 5,
     "metadata": {},
     "output_type": "execute_result"
    }
   ],
   "source": [
    "os.chdir(\"C:\\\\Users\\\\user\\\\Desktop\\\\לימודים\\\\שנה ד'\\\\למידת מכונה\")   \n",
    "df = pd.read_excel(\"prtr-data-2017.xlsx\")\n",
    "data = df.copy()\n",
    "data.sample(3)"
   ]
  },
  {
   "cell_type": "code",
   "execution_count": 6,
   "id": "dfa3ffb2",
   "metadata": {},
   "outputs": [
    {
     "data": {
      "text/plain": [
       "כתובת תאגיד/שותפות/ע\"מ                      2105\n",
       "מזהם בפליטה/הזרמה                           1817\n",
       "קוד מזהם                                    1814\n",
       "קבוצת מזהמים                                1814\n",
       "כמות פליטה/הזרמה (ק\"ג)                      1797\n",
       "שח\"מ בפליטה/הזרמה                           1835\n",
       "כמות פליטה/הזרמה מתקלות                     1796\n",
       "שח\"מ פליטה/הזרמה מתקלות                    12921\n",
       "סוג טיפול בשפכים                            5238\n",
       "יעד הזרמה של שפכים                          4823\n",
       "כמות העברת פסולת לא מסוכנת לטיפול (טון)      954\n",
       "כמות העברת פסולת לא מסוכנת לסילוק (טון)      954\n",
       "שח\"מ העברות פסולת לא מסוכנת                 1337\n",
       "כמות העברת פסולת מסוכנת לטיפול (טון)         954\n",
       "כמות העברת פסולת מסוכנת לסילוק (טון)         954\n",
       "שח\"מ העברות פסולת מסוכנת                    8000\n",
       "יעד העברת פסולת מסוכנת לחו\"ל               12610\n",
       "dtype: int64"
      ]
     },
     "execution_count": 6,
     "metadata": {},
     "output_type": "execute_result"
    }
   ],
   "source": [
    "# Step 2: Identify columns with missing values\n",
    "missing_values_summary = data.isnull().sum()\n",
    "\n",
    "# Display only columns with missing values\n",
    "missing_values_summary = missing_values_summary[missing_values_summary > 0]\n",
    "missing_values_summary"
   ]
  },
  {
   "cell_type": "code",
   "execution_count": 7,
   "id": "0766aaab",
   "metadata": {},
   "outputs": [
    {
     "data": {
      "text/plain": [
       "{'dropped_columns': ['שח\"מ פליטה/הזרמה מתקלות',\n",
       "  'שח\"מ העברות פסולת מסוכנת',\n",
       "  'יעד העברת פסולת מסוכנת לחו\"ל'],\n",
       " 'remaining_columns': ['מס\"ד',\n",
       "  'שנת דיווח',\n",
       "  'שם מפעל',\n",
       "  'מספר מפעל',\n",
       "  'מחוז',\n",
       "  'רשות מקומית',\n",
       "  'ישוב',\n",
       "  'כתובת מפעל',\n",
       "  'נ\"צ X',\n",
       "  'נ\"צ Y',\n",
       "  'שם תאגיד/שותפות/ע\"מ',\n",
       "  'כתובת תאגיד/שותפות/ע\"מ',\n",
       "  'מספר תאגיד/שותפות/ע\"מ',\n",
       "  'ענף פעילות',\n",
       "  'תחום פעילות',\n",
       "  'סוג פעילות',\n",
       "  'סיווג למ\"ס',\n",
       "  'סוג פליטה/הזרמה',\n",
       "  'מזהם בפליטה/הזרמה',\n",
       "  'קוד מזהם',\n",
       "  'קבוצת מזהמים',\n",
       "  'כמות פליטה/הזרמה (ק\"ג)',\n",
       "  'שח\"מ בפליטה/הזרמה',\n",
       "  'כמות פליטה/הזרמה מתקלות',\n",
       "  'סוג טיפול בשפכים',\n",
       "  'יעד הזרמה של שפכים',\n",
       "  'כמות העברת פסולת לא מסוכנת לטיפול (טון)',\n",
       "  'כמות העברת פסולת לא מסוכנת לסילוק (טון)',\n",
       "  'שח\"מ העברות פסולת לא מסוכנת',\n",
       "  'כמות העברת פסולת מסוכנת לטיפול (טון)',\n",
       "  'כמות העברת פסולת מסוכנת לסילוק (טון)',\n",
       "  'תאריך דיווח'],\n",
       " 'remaining_missing_values': כתובת תאגיד/שותפות/ע\"מ                     2105\n",
       " מזהם בפליטה/הזרמה                          1817\n",
       " קוד מזהם                                   1814\n",
       " קבוצת מזהמים                               1814\n",
       " כמות פליטה/הזרמה (ק\"ג)                     1797\n",
       " שח\"מ בפליטה/הזרמה                          1835\n",
       " כמות פליטה/הזרמה מתקלות                    1796\n",
       " סוג טיפול בשפכים                           5238\n",
       " יעד הזרמה של שפכים                         4823\n",
       " כמות העברת פסולת לא מסוכנת לטיפול (טון)     954\n",
       " כמות העברת פסולת לא מסוכנת לסילוק (טון)     954\n",
       " שח\"מ העברות פסולת לא מסוכנת                1337\n",
       " כמות העברת פסולת מסוכנת לטיפול (טון)        954\n",
       " כמות העברת פסולת מסוכנת לסילוק (טון)        954\n",
       " dtype: int64}"
      ]
     },
     "execution_count": 7,
     "metadata": {},
     "output_type": "execute_result"
    }
   ],
   "source": [
    "# Step 1: Calculate the threshold for 50% missing values\n",
    "threshold = len(data) * 0.5\n",
    "\n",
    "# Step 2: Identify columns with more than 50% missing values\n",
    "columns_to_drop = missing_values_summary[missing_values_summary > threshold].index\n",
    "\n",
    "# Step 3: Drop these columns from the dataset\n",
    "data_cleaned = data.drop(columns=columns_to_drop)\n",
    "\n",
    "# Step 4: Display the remaining columns and their missing values\n",
    "remaining_missing_values = data_cleaned.isnull().sum()\n",
    "\n",
    "# Return the cleaned dataset's structure and remaining missing values\n",
    "remaining_info = {\n",
    "    \"dropped_columns\": columns_to_drop.tolist(),\n",
    "    \"remaining_columns\": data_cleaned.columns.tolist(),\n",
    "    \"remaining_missing_values\": remaining_missing_values[remaining_missing_values > 0]\n",
    "}\n",
    "remaining_info"
   ]
  },
  {
   "cell_type": "code",
   "execution_count": 8,
   "id": "e5f7683e",
   "metadata": {},
   "outputs": [
    {
     "ename": "SyntaxError",
     "evalue": "invalid syntax (<ipython-input-8-70707e95d8db>, line 1)",
     "output_type": "error",
     "traceback": [
      "\u001b[1;36m  File \u001b[1;32m\"<ipython-input-8-70707e95d8db>\"\u001b[1;36m, line \u001b[1;32m1\u001b[0m\n\u001b[1;33m    עמודות שהוסרו:\u001b[0m\n\u001b[1;37m           ^\u001b[0m\n\u001b[1;31mSyntaxError\u001b[0m\u001b[1;31m:\u001b[0m invalid syntax\n"
     ]
    }
   ],
   "source": [
    "\n",
    "עמודות שהוסרו:\n",
    "הסרנו את העמודות הבאות עם יותר מ-50% ערכים חסרים:\n",
    "\n",
    "שח\"מ פליטה/הזרמה מתקלות\n",
    "שח\"מ העברות פסולת מסוכנת\n",
    "יעד העברת פסולת מסוכנת לחו\"ל"
   ]
  },
  {
   "cell_type": "code",
   "execution_count": 9,
   "id": "a2e43819",
   "metadata": {},
   "outputs": [
    {
     "data": {
      "text/plain": [
       "{'remaining_columns': ['מס\"ד',\n",
       "  'שם מפעל',\n",
       "  'מחוז',\n",
       "  'רשות מקומית',\n",
       "  'ישוב',\n",
       "  'נ\"צ X',\n",
       "  'נ\"צ Y',\n",
       "  'ענף פעילות',\n",
       "  'תחום פעילות',\n",
       "  'סוג פעילות',\n",
       "  'סיווג למ\"ס',\n",
       "  'סוג פליטה/הזרמה',\n",
       "  'מזהם בפליטה/הזרמה',\n",
       "  'קוד מזהם',\n",
       "  'קבוצת מזהמים',\n",
       "  'כמות פליטה/הזרמה (ק\"ג)',\n",
       "  'כמות העברת פסולת לא מסוכנת לטיפול (טון)',\n",
       "  'כמות העברת פסולת לא מסוכנת לסילוק (טון)',\n",
       "  'כמות העברת פסולת מסוכנת לטיפול (טון)',\n",
       "  'כמות העברת פסולת מסוכנת לסילוק (טון)'],\n",
       " 'remaining_missing_values': מזהם בפליטה/הזרמה                          1817\n",
       " קוד מזהם                                   1814\n",
       " קבוצת מזהמים                               1814\n",
       " כמות פליטה/הזרמה (ק\"ג)                     1797\n",
       " כמות העברת פסולת לא מסוכנת לטיפול (טון)     954\n",
       " כמות העברת פסולת לא מסוכנת לסילוק (טון)     954\n",
       " כמות העברת פסולת מסוכנת לטיפול (טון)        954\n",
       " כמות העברת פסולת מסוכנת לסילוק (טון)        954\n",
       " dtype: int64}"
      ]
     },
     "execution_count": 9,
     "metadata": {},
     "output_type": "execute_result"
    }
   ],
   "source": [
    "# Step 1: Define columns to drop as per user request\n",
    "columns_to_remove = [\n",
    "    'תאריך דיווח', 'סוג טיפול בשפכים', 'שם תאגיד/שותפות/ע\"מ',\n",
    "    'כתובת תאגיד/שותפות/ע\"מ', 'מספר תאגיד/שותפות/ע\"מ',\n",
    "    'שנת דיווח', 'מספר מפעל', 'כמות פליטה/הזרמה מתקלות',\n",
    "    'שח\"מ העברות פסולת לא מסוכנת', 'כתובת מפעל',\n",
    "    'יעד הזרמה של שפכים', 'שח\"מ בפליטה/הזרמה'\n",
    "]\n",
    "\n",
    "# Step 2: Drop the specified columns\n",
    "data_cleaned = data_cleaned.drop(columns=columns_to_remove)\n",
    "\n",
    "# Step 3: Display remaining columns and check for any additional issues\n",
    "remaining_columns = data_cleaned.columns.tolist()\n",
    "remaining_missing_values = data_cleaned.isnull().sum()\n",
    "\n",
    "# Return information about the cleaned dataset\n",
    "cleaning_summary = {\n",
    "    \"remaining_columns\": remaining_columns,\n",
    "    \"remaining_missing_values\": remaining_missing_values[remaining_missing_values > 0]\n",
    "}\n",
    "cleaning_summary\n"
   ]
  },
  {
   "cell_type": "code",
   "execution_count": 10,
   "id": "83fa3944",
   "metadata": {},
   "outputs": [
    {
     "data": {
      "text/plain": [
       "{'shape_after_removal': (11727, 20),\n",
       " 'remaining_missing_values': מזהם בפליטה/הזרמה                            3\n",
       " כמות פליטה/הזרמה (ק\"ג)                       1\n",
       " כמות העברת פסולת לא מסוכנת לטיפול (טון)    814\n",
       " כמות העברת פסולת לא מסוכנת לסילוק (טון)    814\n",
       " כמות העברת פסולת מסוכנת לטיפול (טון)       814\n",
       " כמות העברת פסולת מסוכנת לסילוק (טון)       814\n",
       " dtype: int64}"
      ]
     },
     "execution_count": 10,
     "metadata": {},
     "output_type": "execute_result"
    }
   ],
   "source": [
    "# Step 1: Remove rows where 'קוד מזהם' is missing\n",
    "data_cleaned = data_cleaned.dropna(subset=['קוד מזהם'])\n",
    "\n",
    "# Step 2: Display the remaining missing values to confirm changes\n",
    "remaining_missing_values = data_cleaned.isnull().sum()\n",
    "\n",
    "# Return updated summary\n",
    "updated_summary = {\n",
    "    \"shape_after_removal\": data_cleaned.shape,\n",
    "    \"remaining_missing_values\": remaining_missing_values[remaining_missing_values > 0]\n",
    "}\n",
    "updated_summary\n"
   ]
  },
  {
   "cell_type": "code",
   "execution_count": 15,
   "id": "44e0e053",
   "metadata": {},
   "outputs": [
    {
     "data": {
      "text/plain": [
       "{'missing_values_after_completion': 0}"
      ]
     },
     "execution_count": 15,
     "metadata": {},
     "output_type": "execute_result"
    }
   ],
   "source": [
    "# Step 1: Create a mapping of 'קוד מזהם' to 'מזהם בפליטה/הזרמה' based on non-null values\n",
    "code_to_pollutant_mapping = data_cleaned.dropna(subset=['מזהם בפליטה/הזרמה']).groupby('קוד מזהם')['מזהם בפליטה/הזרמה'].first()\n",
    "\n",
    "# Step 2: Fill missing 'מזהם בפליטה/הזרמה' based on the mapping\n",
    "data_cleaned['מזהם בפליטה/הזרמה'] = data_cleaned['מזהם בפליטה/הזרמה'].fillna(data_cleaned['קוד מזהם'].map(code_to_pollutant_mapping))\n",
    "\n",
    "# Step 3: Check if there are still missing values in 'מזהם בפליטה/הזרמה'\n",
    "remaining_missing_pollutant = data_cleaned['מזהם בפליטה/הזרמה'].isnull().sum()\n",
    "\n",
    "# Return summary of the operation\n",
    "pollutant_completion_summary = {\n",
    "    \"missing_values_after_completion\": remaining_missing_pollutant,\n",
    "}\n",
    "pollutant_completion_summary\n"
   ]
  },
  {
   "cell_type": "code",
   "execution_count": 16,
   "id": "e11863bf",
   "metadata": {},
   "outputs": [
    {
     "data": {
      "text/plain": [
       "False"
      ]
     },
     "execution_count": 16,
     "metadata": {},
     "output_type": "execute_result"
    }
   ],
   "source": [
    "# Check if \"מתחת לסף הדיווח\" exists in the 'כמות פליטה/הזרמה (ק\"ג)' column\n",
    "non_numeric_check = data_cleaned['כמות פליטה/הזרמה (ק\"ג)'].astype(str).str.contains(\"מתחת לסף הדיווח\").any()\n",
    "non_numeric_check\n"
   ]
  },
  {
   "cell_type": "code",
   "execution_count": 17,
   "id": "63d3b79b",
   "metadata": {},
   "outputs": [
    {
     "ename": "NameError",
     "evalue": "name 'remaining_non_numeric' is not defined",
     "output_type": "error",
     "traceback": [
      "\u001b[1;31m---------------------------------------------------------------------------\u001b[0m",
      "\u001b[1;31mNameError\u001b[0m                                 Traceback (most recent call last)",
      "\u001b[1;32m<ipython-input-17-450ffce237a1>\u001b[0m in \u001b[0;36m<module>\u001b[1;34m\u001b[0m\n\u001b[0;32m      4\u001b[0m \u001b[1;31m# Return confirmation of changes\u001b[0m\u001b[1;33m\u001b[0m\u001b[1;33m\u001b[0m\u001b[1;33m\u001b[0m\u001b[0m\n\u001b[0;32m      5\u001b[0m replacement_summary = {\n\u001b[1;32m----> 6\u001b[1;33m     \u001b[1;34m\"remaining_non_numeric_values\"\u001b[0m\u001b[1;33m:\u001b[0m \u001b[0mremaining_non_numeric\u001b[0m\u001b[1;33m,\u001b[0m\u001b[1;33m\u001b[0m\u001b[1;33m\u001b[0m\u001b[0m\n\u001b[0m\u001b[0;32m      7\u001b[0m     \u001b[1;34m\"remaining_missing_values\"\u001b[0m\u001b[1;33m:\u001b[0m \u001b[0mremaining_missing_emission\u001b[0m\u001b[1;33m,\u001b[0m\u001b[1;33m\u001b[0m\u001b[1;33m\u001b[0m\u001b[0m\n\u001b[0;32m      8\u001b[0m     \u001b[1;34m\"column_statistics\"\u001b[0m\u001b[1;33m:\u001b[0m \u001b[0mdata_cleaned\u001b[0m\u001b[1;33m[\u001b[0m\u001b[1;34m'כמות פליטה/הזרמה (ק\"ג)'\u001b[0m\u001b[1;33m]\u001b[0m\u001b[1;33m.\u001b[0m\u001b[0mdescribe\u001b[0m\u001b[1;33m(\u001b[0m\u001b[1;33m)\u001b[0m\u001b[1;33m\u001b[0m\u001b[1;33m\u001b[0m\u001b[0m\n",
      "\u001b[1;31mNameError\u001b[0m: name 'remaining_non_numeric' is not defined"
     ]
    }
   ],
   "source": [
    "# Step 1: Replace \"מתחת לסף הדיווח\" with 0.5 in the 'כמות פליטה/הזרמה (ק\"ג)' column\n",
    "data_cleaned['כמות פליטה/הזרמה (ק\"ג)'] = data_cleaned['כמות פליטה/הזרמה (ק\"ג)'].replace(\"מתחת לסף הדיווח\", 0.5)\n",
    "\n",
    "# Return confirmation of changes\n",
    "replacement_summary = {\n",
    "    \"remaining_non_numeric_values\": remaining_non_numeric,\n",
    "    \"remaining_missing_values\": remaining_missing_emission,\n",
    "    \"column_statistics\": data_cleaned['כמות פליטה/הזרמה (ק\"ג)'].describe()\n",
    "}\n",
    "#replacement_summary\n"
   ]
  },
  {
   "cell_type": "code",
   "execution_count": 15,
   "id": "39e3f656",
   "metadata": {
    "scrolled": true
   },
   "outputs": [
    {
     "data": {
      "text/plain": [
       "מס\"ד                                         0\n",
       "שם מפעל                                      0\n",
       "מחוז                                         0\n",
       "רשות מקומית                                  0\n",
       "ישוב                                         0\n",
       "נ\"צ X                                        0\n",
       "נ\"צ Y                                        0\n",
       "ענף פעילות                                   0\n",
       "תחום פעילות                                  0\n",
       "סוג פעילות                                   0\n",
       "סיווג למ\"ס                                   0\n",
       "סוג פליטה/הזרמה                              0\n",
       "מזהם בפליטה/הזרמה                            0\n",
       "קוד מזהם                                     0\n",
       "קבוצת מזהמים                                 0\n",
       "כמות פליטה/הזרמה (ק\"ג)                       6\n",
       "כמות העברת פסולת לא מסוכנת לטיפול (טון)    814\n",
       "כמות העברת פסולת לא מסוכנת לסילוק (טון)    814\n",
       "כמות העברת פסולת מסוכנת לטיפול (טון)       814\n",
       "כמות העברת פסולת מסוכנת לסילוק (טון)       814\n",
       "dtype: int64"
      ]
     },
     "execution_count": 15,
     "metadata": {},
     "output_type": "execute_result"
    }
   ],
   "source": []
  },
  {
   "cell_type": "code",
   "execution_count": 18,
   "id": "9bc31b3b",
   "metadata": {},
   "outputs": [
    {
     "data": {
      "text/plain": [
       "0"
      ]
     },
     "execution_count": 18,
     "metadata": {},
     "output_type": "execute_result"
    }
   ],
   "source": [
    "# Step 1: Fill the single missing value in 'כמות פליטה/הזרמה (ק\"ג)' with 0.5\n",
    "data_cleaned['כמות פליטה/הזרמה (ק\"ג)'] = data_cleaned['כמות פליטה/הזרמה (ק\"ג)'].fillna(0.5)\n",
    "\n",
    "# Step 2: Verify that there are no more missing values in the column\n",
    "remaining_missing_emission = data_cleaned['כמות פליטה/הזרמה (ק\"ג)'].isnull().sum()\n",
    "\n",
    "# Return the result\n",
    "remaining_missing_emission\n",
    "\n"
   ]
  },
  {
   "cell_type": "code",
   "execution_count": 30,
   "id": "9d4ea667",
   "metadata": {},
   "outputs": [
    {
     "data": {
      "text/plain": [
       "כמות העברת פסולת לא מסוכנת לטיפול (טון)    814\n",
       "כמות העברת פסולת לא מסוכנת לסילוק (טון)    814\n",
       "כמות העברת פסולת מסוכנת לטיפול (טון)       814\n",
       "כמות העברת פסולת מסוכנת לסילוק (טון)       814\n",
       "dtype: int64"
      ]
     },
     "execution_count": 30,
     "metadata": {},
     "output_type": "execute_result"
    }
   ],
   "source": [
    "# Check the remaining missing values in the dataset\n",
    "remaining_missing_values = data_cleaned.isnull().sum()\n",
    "\n",
    "# Filter only columns with missing values\n",
    "remaining_missing_values = remaining_missing_values[remaining_missing_values > 0]\n",
    "remaining_missing_values\n"
   ]
  },
  {
   "cell_type": "markdown",
   "id": "36a176fc",
   "metadata": {},
   "source": [
    "קוד שמראה מדוע בחרנו בשם מפעל וקוד מזהם"
   ]
  },
  {
   "cell_type": "code",
   "execution_count": 33,
   "id": "450bf339",
   "metadata": {},
   "outputs": [
    {
     "data": {
      "text/plain": [
       "{'facility_variance_stats': count    522.0\n",
       " mean       0.0\n",
       " std        0.0\n",
       " min        0.0\n",
       " 25%        0.0\n",
       " 50%        0.0\n",
       " 75%        0.0\n",
       " max        0.0\n",
       " dtype: float64,\n",
       " 'code_variance_stats': count    8.000000e+01\n",
       " mean     1.933653e+09\n",
       " std      1.825834e+09\n",
       " min      6.826204e+05\n",
       " 25%      9.619398e+08\n",
       " 50%      1.548045e+09\n",
       " 75%      2.246268e+09\n",
       " max      9.630005e+09\n",
       " dtype: float64,\n",
       " 'local_authority': count    1.270000e+02\n",
       " mean     1.064616e+09\n",
       " std      6.054003e+09\n",
       " min      0.000000e+00\n",
       " 25%      0.000000e+00\n",
       " 50%      1.170714e+05\n",
       " 75%      2.730170e+07\n",
       " max      6.242248e+10\n",
       " dtype: float64}"
      ]
     },
     "execution_count": 33,
     "metadata": {},
     "output_type": "execute_result"
    }
   ],
   "source": [
    "# Step 1: Calculate variance within each 'שם מפעל'\n",
    "variance_by_facility = data_cleaned.groupby('שם מפעל')[\n",
    "    ['כמות העברת פסולת לא מסוכנת לטיפול (טון)',\n",
    "     'כמות העברת פסולת לא מסוכנת לסילוק (טון)',\n",
    "     'כמות העברת פסולת מסוכנת לטיפול (טון)',\n",
    "     'כמות העברת פסולת מסוכנת לסילוק (טון)']\n",
    "].var().mean(axis=1)\n",
    "\n",
    "# Step 2: Calculate variance within each 'קוד מזהם'\n",
    "variance_by_code = data_cleaned.groupby('קוד מזהם')[\n",
    "    ['כמות העברת פסולת לא מסוכנת לטיפול (טון)',\n",
    "     'כמות העברת פסולת לא מסוכנת לסילוק (טון)',\n",
    "     'כמות העברת פסולת מסוכנת לטיפול (טון)',\n",
    "     'כמות העברת פסולת מסוכנת לסילוק (טון)']\n",
    "].var().mean(axis=1)\n",
    "\n",
    "\n",
    "# Step 3: Calculate variance within each 'קוד מזהם'\n",
    "variance_by_local_authority = data_cleaned.groupby('רשות מקומית')[\n",
    "    ['כמות העברת פסולת לא מסוכנת לטיפול (טון)',\n",
    "     'כמות העברת פסולת לא מסוכנת לסילוק (טון)',\n",
    "     'כמות העברת פסולת מסוכנת לטיפול (טון)',\n",
    "     'כמות העברת פסולת מסוכנת לסילוק (טון)']\n",
    "].var().mean(axis=1)\n",
    "\n",
    "# Step 3: Summarize results\n",
    "variance_summary = {\n",
    "    \"facility_variance_stats\": variance_by_facility.describe(),\n",
    "    \"code_variance_stats\": variance_by_code.describe(),\n",
    "    \"local_authority\" :variance_by_local_authority.describe()\n",
    "}\n",
    "variance_summary\n"
   ]
  },
  {
   "cell_type": "markdown",
   "id": "8e8f81d3",
   "metadata": {},
   "source": [
    "ממצאי השונות:\n",
    "שונות לפי שם מפעל:\n",
    "\n",
    "השונות בתוך המפעלים היא אפס בכל המקרים, מה שמצביע על כך שאם אין לנו כמויות במפעל מסויים זה אומר שאין לנו שום כמות שם, זה ממש נתון חסר למפעל הספציפי לכן לא נחיתן למלא ערכים חסרים עם עמודה זאת .\n",
    "הנ\"ל פעל.\n",
    "שונות לפי קוד מזהם:\n",
    "\n",
    "השונות בעמודה קוד מזהם היא גבוהה מאוד לכן לא טובה .\n",
    "\n",
    "השונות בעמודה רשות מקומית היא גבוהה יותר מאשר קוד מזהם לכן לא טובה . \n",
    "\n"
   ]
  },
  {
   "cell_type": "code",
   "execution_count": 31,
   "id": "f88c2ca3",
   "metadata": {},
   "outputs": [
    {
     "name": "stdout",
     "output_type": "stream",
     "text": [
      "עמודה: כמות העברת פסולת לא מסוכנת לטיפול (טון)\n",
      "מספר ה-NaN: 814\n",
      "האחוז של ה-NaN: 6.94%\n",
      "\n",
      "עמודה: כמות העברת פסולת לא מסוכנת לסילוק (טון)\n",
      "מספר ה-NaN: 814\n",
      "האחוז של ה-NaN: 6.94%\n",
      "\n",
      "עמודה: כמות העברת פסולת מסוכנת לטיפול (טון)\n",
      "מספר ה-NaN: 814\n",
      "האחוז של ה-NaN: 6.94%\n",
      "\n",
      "עמודה: כמות העברת פסולת מסוכנת לסילוק (טון)\n",
      "מספר ה-NaN: 814\n",
      "האחוז של ה-NaN: 6.94%\n",
      "\n"
     ]
    }
   ],
   "source": [
    "columns_to_check = [\n",
    "    'כמות העברת פסולת לא מסוכנת לטיפול (טון)',\n",
    "    'כמות העברת פסולת לא מסוכנת לסילוק (טון)',\n",
    "    'כמות העברת פסולת מסוכנת לטיפול (טון)',\n",
    "    'כמות העברת פסולת מסוכנת לסילוק (טון)'\n",
    "]\n",
    "\n",
    "# בדוק את מספר ה-NaN בכל עמודה ואת האחוז של ה-NaN\n",
    "for column in columns_to_check:\n",
    "    na_count = data_cleaned[column].isna().sum()  # מספר ה-NaN בעמודה\n",
    "    na_percentage = (na_count / len(data_cleaned)) * 100  # אחוז ה-NaN מתוך סך כל השורות\n",
    "    print(f\"עמודה: {column}\")\n",
    "    print(f\"מספר ה-NaN: {na_count}\")\n",
    "    print(f\"האחוז של ה-NaN: {na_percentage:.2f}%\\n\")"
   ]
  },
  {
   "cell_type": "code",
   "execution_count": 35,
   "id": "06d9ace7",
   "metadata": {},
   "outputs": [
    {
     "name": "stdout",
     "output_type": "stream",
     "text": [
      "סהכ המפעלים עם : 566\n",
      "מספר המפעלים עם NaN: 40\n",
      "האחוז של המפעלים עם NaN מתוך כלל המפעלים: 7.07%\n"
     ]
    }
   ],
   "source": [
    "# רשימה של העמודות שברצונך לבדוק\n",
    "columns_to_check = [\n",
    "    'כמות העברת פסולת לא מסוכנת לטיפול (טון)',\n",
    "    'כמות העברת פסולת לא מסוכנת לסילוק (טון)',\n",
    "    'כמות העברת פסולת מסוכנת לטיפול (טון)',\n",
    "    'כמות העברת פסולת מסוכנת לסילוק (טון)'\n",
    "]\n",
    "\n",
    "# סינון השורות שבהן יש NaN באחת מהעמודות\n",
    "rows_with_nan = data_cleaned[data_cleaned[columns_to_check].isna().any(axis=1)]\n",
    "\n",
    "# ספירת המפעלים עם NaN\n",
    "factories_with_nan = rows_with_nan['שם מפעל'].nunique()\n",
    "\n",
    "# סך כל המפעלים\n",
    "total_factories = data_cleaned['שם מפעל'].nunique()\n",
    "\n",
    "# חישוב האחוז של המפעלים עם NaN מתוך כלל המפעלים\n",
    "nan_percentage = (factories_with_nan / total_factories) * 100\n",
    "\n",
    "# הצגת התוצאה\n",
    "print(f\"סהכ המפעלים עם : {total_factories}\")\n",
    "\n",
    "print(f\"מספר המפעלים עם NaN: {factories_with_nan}\")\n",
    "\n",
    "print(f\"האחוז של המפעלים עם NaN מתוך כלל המפעלים: {nan_percentage:.2f}%\")\n"
   ]
  },
  {
   "cell_type": "markdown",
   "id": "51638375",
   "metadata": {},
   "source": [
    "\n",
    "## על פי מה שאנחנו רואים זה שמפעלים שיש להם נאנים הם לא הרבה יחסית לכל המפעלים שנמצאים בדאטא וניסינו למלא את ערכים אלו בדרכים יצירתיות כמו לבדוק סטיות תקן ,\n",
    "## וראינו שיצאו סטיות גדולות מאוד שיכולות לפגוע לנו באכות התנונים לכן החלטנו להוריד את מפעלים אלו לגמריי , כי העמודות הנל של הכמויות הם הכי קריטיות לנו ואם אין לנו אותם ואין לנו איך למלא אותם בצורה מהימנה עדיף להוריד אותם כל עוד הם חלק מאוד קטן מהדאטא .\n"
   ]
  },
  {
   "cell_type": "code",
   "execution_count": 40,
   "id": "72131b53",
   "metadata": {},
   "outputs": [],
   "source": [
    "# רשימה של העמודות שברצונך לבדוק\n",
    "columns_to_check = [\n",
    "    'כמות העברת פסולת לא מסוכנת לטיפול (טון)',\n",
    "    'כמות העברת פסולת לא מסוכנת לסילוק (טון)',\n",
    "    'כמות העברת פסולת מסוכנת לטיפול (טון)',\n",
    "    'כמות העברת פסולת מסוכנת לסילוק (טון)'\n",
    "]\n",
    "\n",
    "# הסרת שורות שבהן יש NaN בעמודות שציינת\n",
    "data_cleaned = data_cleaned.dropna(subset=columns_to_check)\n"
   ]
  },
  {
   "cell_type": "code",
   "execution_count": 41,
   "id": "7340cb3a",
   "metadata": {},
   "outputs": [
    {
     "data": {
      "text/plain": [
       "Series([], dtype: int64)"
      ]
     },
     "execution_count": 41,
     "metadata": {},
     "output_type": "execute_result"
    }
   ],
   "source": [
    "# Check the remaining missing values in the dataset\n",
    "remaining_missing_values = data_cleaned.isnull().sum()\n",
    "\n",
    "# Filter only columns with missing values\n",
    "remaining_missing_values = remaining_missing_values[remaining_missing_values > 0]\n",
    "remaining_missing_values\n"
   ]
  },
  {
   "cell_type": "code",
   "execution_count": null,
   "id": "3b32da76",
   "metadata": {},
   "outputs": [],
   "source": [
    "# הדאטא ללא נאנים ."
   ]
  },
  {
   "cell_type": "code",
   "execution_count": 42,
   "id": "5c051384",
   "metadata": {},
   "outputs": [],
   "source": [
    "## הורדת הדאטא החדשה לקובץ אקסל\n",
    "\n",
    "file_path = \"C:\\\\Users\\\\user\\\\Desktop\\\\לימודים\\\\שנה ד'\\\\למידת מכונה\\\\data_cleaned.xlsx\"\n",
    "data_cleaned.to_excel(file_path, index=False)"
   ]
  },
  {
   "cell_type": "code",
   "execution_count": 46,
   "id": "f162c97d",
   "metadata": {},
   "outputs": [
    {
     "name": "stdout",
     "output_type": "stream",
     "text": [
      "['דרום' 'צפון' 'מרכז' 'חיפה' 'תל אביב' 'ירושלים']\n"
     ]
    }
   ],
   "source": [
    "unique_values = data_cleaned['מחוז'].unique()\n",
    "\n",
    "# הצגת הערכים הייחודיים\n",
    "print(unique_values)"
   ]
  },
  {
   "cell_type": "code",
   "execution_count": null,
   "id": "b6f211fc",
   "metadata": {},
   "outputs": [],
   "source": []
  }
 ],
 "metadata": {
  "kernelspec": {
   "display_name": "Python 3",
   "language": "python",
   "name": "python3"
  },
  "language_info": {
   "codemirror_mode": {
    "name": "ipython",
    "version": 3
   },
   "file_extension": ".py",
   "mimetype": "text/x-python",
   "name": "python",
   "nbconvert_exporter": "python",
   "pygments_lexer": "ipython3",
   "version": "3.8.8"
  }
 },
 "nbformat": 4,
 "nbformat_minor": 5
}
