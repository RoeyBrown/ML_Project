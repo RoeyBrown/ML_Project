{
 "cells": [
  {
   "cell_type": "markdown",
   "id": "9cc1173b-ddf0-4038-94a4-86e772c95adc",
   "metadata": {},
   "source": [
    "# Machine Learning Final Project\n",
    "\n",
    "Submitted By:\n",
    "\n",
    "Roey Brown: 208993006\n",
    "\n",
    "Matan Vidal: 206508426"
   ]
  },
  {
   "cell_type": "code",
   "execution_count": 6,
   "id": "57d97426",
   "metadata": {},
   "outputs": [],
   "source": [
    "import pandas as pd\n",
    "import numpy as np\n",
    "import os"
   ]
  },
  {
   "cell_type": "code",
   "execution_count": 10,
   "id": "aa1d409b",
   "metadata": {},
   "outputs": [
    {
     "data": {
      "text/html": [
       "<div>\n",
       "<style scoped>\n",
       "    .dataframe tbody tr th:only-of-type {\n",
       "        vertical-align: middle;\n",
       "    }\n",
       "\n",
       "    .dataframe tbody tr th {\n",
       "        vertical-align: top;\n",
       "    }\n",
       "\n",
       "    .dataframe thead th {\n",
       "        text-align: right;\n",
       "    }\n",
       "</style>\n",
       "<table border=\"1\" class=\"dataframe\">\n",
       "  <thead>\n",
       "    <tr style=\"text-align: right;\">\n",
       "      <th></th>\n",
       "      <th>מס\"ד</th>\n",
       "      <th>שנת דיווח</th>\n",
       "      <th>שם מפעל</th>\n",
       "      <th>מספר מפעל</th>\n",
       "      <th>מחוז</th>\n",
       "      <th>רשות מקומית</th>\n",
       "      <th>ישוב</th>\n",
       "      <th>כתובת מפעל</th>\n",
       "      <th>נ\"צ X</th>\n",
       "      <th>נ\"צ Y</th>\n",
       "      <th>...</th>\n",
       "      <th>סוג טיפול בשפכים</th>\n",
       "      <th>יעד הזרמה של שפכים</th>\n",
       "      <th>כמות העברת פסולת לא מסוכנת לטיפול (טון)</th>\n",
       "      <th>כמות העברת פסולת לא מסוכנת לסילוק (טון)</th>\n",
       "      <th>שח\"מ העברות פסולת לא מסוכנת</th>\n",
       "      <th>כמות העברת פסולת מסוכנת לטיפול (טון)</th>\n",
       "      <th>כמות העברת פסולת מסוכנת לסילוק (טון)</th>\n",
       "      <th>שח\"מ העברות פסולת מסוכנת</th>\n",
       "      <th>יעד העברת פסולת מסוכנת לחו\"ל</th>\n",
       "      <th>תאריך דיווח</th>\n",
       "    </tr>\n",
       "  </thead>\n",
       "  <tbody>\n",
       "    <tr>\n",
       "      <th>0</th>\n",
       "      <td>37</td>\n",
       "      <td>2017</td>\n",
       "      <td>א.ב. מחזור והובלות בע\"מ</td>\n",
       "      <td>230371</td>\n",
       "      <td>דרום</td>\n",
       "      <td>אשדוד</td>\n",
       "      <td>אשדוד</td>\n",
       "      <td>המתכת 41, אזור תעשיה צפוני, אשדוד 7752142</td>\n",
       "      <td>169928</td>\n",
       "      <td>637818</td>\n",
       "      <td>...</td>\n",
       "      <td>אחר</td>\n",
       "      <td>מט\"ש אחר</td>\n",
       "      <td>568910.0</td>\n",
       "      <td>5145.0</td>\n",
       "      <td>הערכות הנדסיות</td>\n",
       "      <td>0.0</td>\n",
       "      <td>0.0</td>\n",
       "      <td>NaN</td>\n",
       "      <td>NaN</td>\n",
       "      <td>2018-03-13</td>\n",
       "    </tr>\n",
       "    <tr>\n",
       "      <th>1</th>\n",
       "      <td>38</td>\n",
       "      <td>2017</td>\n",
       "      <td>א.ב. מחזור והובלות בע\"מ</td>\n",
       "      <td>230371</td>\n",
       "      <td>דרום</td>\n",
       "      <td>אשדוד</td>\n",
       "      <td>אשדוד</td>\n",
       "      <td>המתכת 41, אזור תעשיה צפוני, אשדוד 7752142</td>\n",
       "      <td>169928</td>\n",
       "      <td>637818</td>\n",
       "      <td>...</td>\n",
       "      <td>אחר</td>\n",
       "      <td>מט\"ש אחר</td>\n",
       "      <td>568910.0</td>\n",
       "      <td>5145.0</td>\n",
       "      <td>הערכות הנדסיות</td>\n",
       "      <td>0.0</td>\n",
       "      <td>0.0</td>\n",
       "      <td>NaN</td>\n",
       "      <td>NaN</td>\n",
       "      <td>2018-03-13</td>\n",
       "    </tr>\n",
       "    <tr>\n",
       "      <th>2</th>\n",
       "      <td>39</td>\n",
       "      <td>2017</td>\n",
       "      <td>א.ב. מחזור והובלות בע\"מ</td>\n",
       "      <td>230371</td>\n",
       "      <td>דרום</td>\n",
       "      <td>אשדוד</td>\n",
       "      <td>אשדוד</td>\n",
       "      <td>המתכת 41, אזור תעשיה צפוני, אשדוד 7752142</td>\n",
       "      <td>169928</td>\n",
       "      <td>637818</td>\n",
       "      <td>...</td>\n",
       "      <td>אחר</td>\n",
       "      <td>מט\"ש אחר</td>\n",
       "      <td>568910.0</td>\n",
       "      <td>5145.0</td>\n",
       "      <td>הערכות הנדסיות</td>\n",
       "      <td>0.0</td>\n",
       "      <td>0.0</td>\n",
       "      <td>NaN</td>\n",
       "      <td>NaN</td>\n",
       "      <td>2018-03-13</td>\n",
       "    </tr>\n",
       "    <tr>\n",
       "      <th>3</th>\n",
       "      <td>40</td>\n",
       "      <td>2017</td>\n",
       "      <td>א.ב. מחזור והובלות בע\"מ</td>\n",
       "      <td>230371</td>\n",
       "      <td>דרום</td>\n",
       "      <td>אשדוד</td>\n",
       "      <td>אשדוד</td>\n",
       "      <td>המתכת 41, אזור תעשיה צפוני, אשדוד 7752142</td>\n",
       "      <td>169928</td>\n",
       "      <td>637818</td>\n",
       "      <td>...</td>\n",
       "      <td>אחר</td>\n",
       "      <td>מט\"ש אחר</td>\n",
       "      <td>568910.0</td>\n",
       "      <td>5145.0</td>\n",
       "      <td>הערכות הנדסיות</td>\n",
       "      <td>0.0</td>\n",
       "      <td>0.0</td>\n",
       "      <td>NaN</td>\n",
       "      <td>NaN</td>\n",
       "      <td>2018-03-13</td>\n",
       "    </tr>\n",
       "    <tr>\n",
       "      <th>4</th>\n",
       "      <td>41</td>\n",
       "      <td>2017</td>\n",
       "      <td>א.ב. מחזור והובלות בע\"מ</td>\n",
       "      <td>230371</td>\n",
       "      <td>דרום</td>\n",
       "      <td>אשדוד</td>\n",
       "      <td>אשדוד</td>\n",
       "      <td>המתכת 41, אזור תעשיה צפוני, אשדוד 7752142</td>\n",
       "      <td>169928</td>\n",
       "      <td>637818</td>\n",
       "      <td>...</td>\n",
       "      <td>אחר</td>\n",
       "      <td>מט\"ש אחר</td>\n",
       "      <td>568910.0</td>\n",
       "      <td>5145.0</td>\n",
       "      <td>הערכות הנדסיות</td>\n",
       "      <td>0.0</td>\n",
       "      <td>0.0</td>\n",
       "      <td>NaN</td>\n",
       "      <td>NaN</td>\n",
       "      <td>2018-03-13</td>\n",
       "    </tr>\n",
       "  </tbody>\n",
       "</table>\n",
       "<p>5 rows × 35 columns</p>\n",
       "</div>"
      ],
      "text/plain": [
       "   מס\"ד  שנת דיווח                  שם מפעל  מספר מפעל  מחוז רשות מקומית  \\\n",
       "0    37       2017  א.ב. מחזור והובלות בע\"מ     230371  דרום       אשדוד   \n",
       "1    38       2017  א.ב. מחזור והובלות בע\"מ     230371  דרום       אשדוד   \n",
       "2    39       2017  א.ב. מחזור והובלות בע\"מ     230371  דרום       אשדוד   \n",
       "3    40       2017  א.ב. מחזור והובלות בע\"מ     230371  דרום       אשדוד   \n",
       "4    41       2017  א.ב. מחזור והובלות בע\"מ     230371  דרום       אשדוד   \n",
       "\n",
       "    ישוב                                 כתובת מפעל   נ\"צ X   נ\"צ Y  ...  \\\n",
       "0  אשדוד  המתכת 41, אזור תעשיה צפוני, אשדוד 7752142  169928  637818  ...   \n",
       "1  אשדוד  המתכת 41, אזור תעשיה צפוני, אשדוד 7752142  169928  637818  ...   \n",
       "2  אשדוד  המתכת 41, אזור תעשיה צפוני, אשדוד 7752142  169928  637818  ...   \n",
       "3  אשדוד  המתכת 41, אזור תעשיה צפוני, אשדוד 7752142  169928  637818  ...   \n",
       "4  אשדוד  המתכת 41, אזור תעשיה צפוני, אשדוד 7752142  169928  637818  ...   \n",
       "\n",
       "  סוג טיפול בשפכים יעד הזרמה של שפכים  \\\n",
       "0              אחר           מט\"ש אחר   \n",
       "1              אחר           מט\"ש אחר   \n",
       "2              אחר           מט\"ש אחר   \n",
       "3              אחר           מט\"ש אחר   \n",
       "4              אחר           מט\"ש אחר   \n",
       "\n",
       "   כמות העברת פסולת לא מסוכנת לטיפול (טון)  \\\n",
       "0                                 568910.0   \n",
       "1                                 568910.0   \n",
       "2                                 568910.0   \n",
       "3                                 568910.0   \n",
       "4                                 568910.0   \n",
       "\n",
       "  כמות העברת פסולת לא מסוכנת לסילוק (טון) שח\"מ העברות פסולת לא מסוכנת  \\\n",
       "0                                  5145.0              הערכות הנדסיות   \n",
       "1                                  5145.0              הערכות הנדסיות   \n",
       "2                                  5145.0              הערכות הנדסיות   \n",
       "3                                  5145.0              הערכות הנדסיות   \n",
       "4                                  5145.0              הערכות הנדסיות   \n",
       "\n",
       "  כמות העברת פסולת מסוכנת לטיפול (טון) כמות העברת פסולת מסוכנת לסילוק (טון)  \\\n",
       "0                                  0.0                                  0.0   \n",
       "1                                  0.0                                  0.0   \n",
       "2                                  0.0                                  0.0   \n",
       "3                                  0.0                                  0.0   \n",
       "4                                  0.0                                  0.0   \n",
       "\n",
       "  שח\"מ העברות פסולת מסוכנת יעד העברת פסולת מסוכנת לחו\"ל  תאריך דיווח  \n",
       "0                      NaN                          NaN   2018-03-13  \n",
       "1                      NaN                          NaN   2018-03-13  \n",
       "2                      NaN                          NaN   2018-03-13  \n",
       "3                      NaN                          NaN   2018-03-13  \n",
       "4                      NaN                          NaN   2018-03-13  \n",
       "\n",
       "[5 rows x 35 columns]"
      ]
     },
     "execution_count": 10,
     "metadata": {},
     "output_type": "execute_result"
    }
   ],
   "source": [
    "os.chdir(\"C:\\\\Users\\\\brown\\\\Desktop\\\\שנה ד\\\\סמסטר א\\\\נושאים מתקדמים למידת מכונה\\\\פרויקט\")   \n",
    "df = pd.read_excel(\"prtr-data-2017.xlsx\")\n",
    "data = df.copy()\n",
    "data.head()"
   ]
  },
  {
   "cell_type": "code",
   "execution_count": 12,
   "id": "dfa3ffb2",
   "metadata": {},
   "outputs": [
    {
     "data": {
      "text/plain": [
       "כתובת תאגיד/שותפות/ע\"מ                      2105\n",
       "מזהם בפליטה/הזרמה                           1817\n",
       "קוד מזהם                                    1814\n",
       "קבוצת מזהמים                                1814\n",
       "כמות פליטה/הזרמה (ק\"ג)                      1797\n",
       "שח\"מ בפליטה/הזרמה                           1835\n",
       "כמות פליטה/הזרמה מתקלות                     1796\n",
       "שח\"מ פליטה/הזרמה מתקלות                    12921\n",
       "סוג טיפול בשפכים                            5238\n",
       "יעד הזרמה של שפכים                          4823\n",
       "כמות העברת פסולת לא מסוכנת לטיפול (טון)      954\n",
       "כמות העברת פסולת לא מסוכנת לסילוק (טון)      954\n",
       "שח\"מ העברות פסולת לא מסוכנת                 1337\n",
       "כמות העברת פסולת מסוכנת לטיפול (טון)         954\n",
       "כמות העברת פסולת מסוכנת לסילוק (טון)         954\n",
       "שח\"מ העברות פסולת מסוכנת                    8000\n",
       "יעד העברת פסולת מסוכנת לחו\"ל               12610\n",
       "dtype: int64"
      ]
     },
     "execution_count": 12,
     "metadata": {},
     "output_type": "execute_result"
    }
   ],
   "source": [
    "# Step 2: Identify columns with missing values\n",
    "missing_values_summary = data.isnull().sum()\n",
    "\n",
    "# Display only columns with missing values\n",
    "missing_values_summary = missing_values_summary[missing_values_summary > 0]\n",
    "missing_values_summary"
   ]
  },
  {
   "cell_type": "markdown",
   "id": "6a40218a-e6c2-449e-8fd2-56181a6a54e9",
   "metadata": {},
   "source": [
    "# Cleaning data with more than 50% missing values"
   ]
  },
  {
   "cell_type": "code",
   "execution_count": 17,
   "id": "0766aaab",
   "metadata": {},
   "outputs": [
    {
     "data": {
      "text/plain": [
       "{'dropped_columns': ['שח\"מ פליטה/הזרמה מתקלות',\n",
       "  'שח\"מ העברות פסולת מסוכנת',\n",
       "  'יעד העברת פסולת מסוכנת לחו\"ל'],\n",
       " 'remaining_columns': ['מס\"ד',\n",
       "  'שנת דיווח',\n",
       "  'שם מפעל',\n",
       "  'מספר מפעל',\n",
       "  'מחוז',\n",
       "  'רשות מקומית',\n",
       "  'ישוב',\n",
       "  'כתובת מפעל',\n",
       "  'נ\"צ X',\n",
       "  'נ\"צ Y',\n",
       "  'שם תאגיד/שותפות/ע\"מ',\n",
       "  'כתובת תאגיד/שותפות/ע\"מ',\n",
       "  'מספר תאגיד/שותפות/ע\"מ',\n",
       "  'ענף פעילות',\n",
       "  'תחום פעילות',\n",
       "  'סוג פעילות',\n",
       "  'סיווג למ\"ס',\n",
       "  'סוג פליטה/הזרמה',\n",
       "  'מזהם בפליטה/הזרמה',\n",
       "  'קוד מזהם',\n",
       "  'קבוצת מזהמים',\n",
       "  'כמות פליטה/הזרמה (ק\"ג)',\n",
       "  'שח\"מ בפליטה/הזרמה',\n",
       "  'כמות פליטה/הזרמה מתקלות',\n",
       "  'סוג טיפול בשפכים',\n",
       "  'יעד הזרמה של שפכים',\n",
       "  'כמות העברת פסולת לא מסוכנת לטיפול (טון)',\n",
       "  'כמות העברת פסולת לא מסוכנת לסילוק (טון)',\n",
       "  'שח\"מ העברות פסולת לא מסוכנת',\n",
       "  'כמות העברת פסולת מסוכנת לטיפול (טון)',\n",
       "  'כמות העברת פסולת מסוכנת לסילוק (טון)',\n",
       "  'תאריך דיווח'],\n",
       " 'remaining_missing_values': כתובת תאגיד/שותפות/ע\"מ                     2105\n",
       " מזהם בפליטה/הזרמה                          1817\n",
       " קוד מזהם                                   1814\n",
       " קבוצת מזהמים                               1814\n",
       " כמות פליטה/הזרמה (ק\"ג)                     1797\n",
       " שח\"מ בפליטה/הזרמה                          1835\n",
       " כמות פליטה/הזרמה מתקלות                    1796\n",
       " סוג טיפול בשפכים                           5238\n",
       " יעד הזרמה של שפכים                         4823\n",
       " כמות העברת פסולת לא מסוכנת לטיפול (טון)     954\n",
       " כמות העברת פסולת לא מסוכנת לסילוק (טון)     954\n",
       " שח\"מ העברות פסולת לא מסוכנת                1337\n",
       " כמות העברת פסולת מסוכנת לטיפול (טון)        954\n",
       " כמות העברת פסולת מסוכנת לסילוק (טון)        954\n",
       " dtype: int64}"
      ]
     },
     "execution_count": 17,
     "metadata": {},
     "output_type": "execute_result"
    }
   ],
   "source": [
    "# Step 1: Calculate the threshold for 50% missing values\n",
    "threshold = len(data) * 0.5\n",
    "\n",
    "# Step 2: Identify columns with more than 50% missing values\n",
    "columns_to_drop = missing_values_summary[missing_values_summary > threshold].index\n",
    "\n",
    "# Step 3: Drop these columns from the dataset\n",
    "data_cleaned = data.drop(columns=columns_to_drop)\n",
    "\n",
    "# Step 4: Display the remaining columns and their missing values\n",
    "remaining_missing_values = data_cleaned.isnull().sum()\n",
    "\n",
    "# Return the cleaned dataset's structure and remaining missing values\n",
    "remaining_info = {\n",
    "    \"dropped_columns\": columns_to_drop.tolist(),\n",
    "    \"remaining_columns\": data_cleaned.columns.tolist(),\n",
    "    \"remaining_missing_values\": remaining_missing_values[remaining_missing_values > 0]\n",
    "}\n",
    "remaining_info"
   ]
  },
  {
   "cell_type": "markdown",
   "id": "25bfc179-d4b2-47a6-84cd-8ed49305b019",
   "metadata": {},
   "source": [
    "Removed columns:\n",
    "\n",
    "שח\"מ פליטה/הזרמה מתקלות\n",
    "\n",
    "שח\"מ העברות פסולת מסוכנת\n",
    "\n",
    "יעד העברת פסולת מסוכנת לחו\"ל\n"
   ]
  },
  {
   "cell_type": "markdown",
   "id": "e817e98e-b3b0-44b9-9ea2-9ec819c17188",
   "metadata": {},
   "source": [
    "# We will remove columns that are not relevant to the project in terms of the type of data versus the project's purpose."
   ]
  },
  {
   "cell_type": "code",
   "execution_count": 23,
   "id": "a2e43819",
   "metadata": {},
   "outputs": [
    {
     "data": {
      "text/plain": [
       "{'remaining_columns': ['מס\"ד',\n",
       "  'שם מפעל',\n",
       "  'מחוז',\n",
       "  'רשות מקומית',\n",
       "  'ישוב',\n",
       "  'נ\"צ X',\n",
       "  'נ\"צ Y',\n",
       "  'ענף פעילות',\n",
       "  'תחום פעילות',\n",
       "  'סוג פעילות',\n",
       "  'סיווג למ\"ס',\n",
       "  'סוג פליטה/הזרמה',\n",
       "  'מזהם בפליטה/הזרמה',\n",
       "  'קוד מזהם',\n",
       "  'קבוצת מזהמים',\n",
       "  'כמות פליטה/הזרמה (ק\"ג)',\n",
       "  'כמות העברת פסולת לא מסוכנת לטיפול (טון)',\n",
       "  'כמות העברת פסולת לא מסוכנת לסילוק (טון)',\n",
       "  'כמות העברת פסולת מסוכנת לטיפול (טון)',\n",
       "  'כמות העברת פסולת מסוכנת לסילוק (טון)'],\n",
       " 'remaining_missing_values': מזהם בפליטה/הזרמה                          1817\n",
       " קוד מזהם                                   1814\n",
       " קבוצת מזהמים                               1814\n",
       " כמות פליטה/הזרמה (ק\"ג)                     1797\n",
       " כמות העברת פסולת לא מסוכנת לטיפול (טון)     954\n",
       " כמות העברת פסולת לא מסוכנת לסילוק (טון)     954\n",
       " כמות העברת פסולת מסוכנת לטיפול (טון)        954\n",
       " כמות העברת פסולת מסוכנת לסילוק (טון)        954\n",
       " dtype: int64}"
      ]
     },
     "execution_count": 23,
     "metadata": {},
     "output_type": "execute_result"
    }
   ],
   "source": [
    "# Step 1: Define columns to drop as per user request\n",
    "columns_to_remove = [\n",
    "    'תאריך דיווח', 'סוג טיפול בשפכים', 'שם תאגיד/שותפות/ע\"מ',\n",
    "    'כתובת תאגיד/שותפות/ע\"מ', 'מספר תאגיד/שותפות/ע\"מ',\n",
    "    'שנת דיווח', 'מספר מפעל', 'כמות פליטה/הזרמה מתקלות',\n",
    "    'שח\"מ העברות פסולת לא מסוכנת', 'כתובת מפעל',\n",
    "    'יעד הזרמה של שפכים', 'שח\"מ בפליטה/הזרמה'\n",
    "]\n",
    "\n",
    "# Step 2: Drop the specified columns\n",
    "data_cleaned = data_cleaned.drop(columns=columns_to_remove)\n",
    "\n",
    "# Step 3: Display remaining columns and check for any additional issues\n",
    "remaining_columns = data_cleaned.columns.tolist()\n",
    "remaining_missing_values = data_cleaned.isnull().sum()\n",
    "\n",
    "# Return information about the cleaned dataset\n",
    "cleaning_summary = {\n",
    "    \"remaining_columns\": remaining_columns,\n",
    "    \"remaining_missing_values\": remaining_missing_values[remaining_missing_values > 0]\n",
    "}\n",
    "cleaning_summary\n"
   ]
  },
  {
   "cell_type": "markdown",
   "id": "d146a58f-0b24-4e37-aa81-bf7b5bd01189",
   "metadata": {},
   "source": [
    "# We will remove rows where a pollutant code is missing because all of these rows are missing critical data for classifying the material, such as pollutant group and emission quantity."
   ]
  },
  {
   "cell_type": "code",
   "execution_count": 26,
   "id": "83fa3944",
   "metadata": {},
   "outputs": [
    {
     "data": {
      "text/plain": [
       "{'shape_after_removal': (11727, 20),\n",
       " 'remaining_missing_values': מזהם בפליטה/הזרמה                            3\n",
       " כמות פליטה/הזרמה (ק\"ג)                       1\n",
       " כמות העברת פסולת לא מסוכנת לטיפול (טון)    814\n",
       " כמות העברת פסולת לא מסוכנת לסילוק (טון)    814\n",
       " כמות העברת פסולת מסוכנת לטיפול (טון)       814\n",
       " כמות העברת פסולת מסוכנת לסילוק (טון)       814\n",
       " dtype: int64}"
      ]
     },
     "execution_count": 26,
     "metadata": {},
     "output_type": "execute_result"
    }
   ],
   "source": [
    "# Step 1: Remove rows where 'קוד מזהם' is missing\n",
    "data_cleaned = data_cleaned.dropna(subset=['קוד מזהם'])\n",
    "\n",
    "# Step 2: Display the remaining missing values to confirm changes\n",
    "remaining_missing_values = data_cleaned.isnull().sum()\n",
    "\n",
    "# Return updated summary\n",
    "updated_summary = {\n",
    "    \"shape_after_removal\": data_cleaned.shape,\n",
    "    \"remaining_missing_values\": remaining_missing_values[remaining_missing_values > 0]\n",
    "}\n",
    "updated_summary\n"
   ]
  },
  {
   "cell_type": "code",
   "execution_count": 28,
   "id": "44e0e053",
   "metadata": {},
   "outputs": [
    {
     "data": {
      "text/plain": [
       "{'missing_values_after_completion': 0}"
      ]
     },
     "execution_count": 28,
     "metadata": {},
     "output_type": "execute_result"
    }
   ],
   "source": [
    "# Step 1: Create a mapping of 'קוד מזהם' to 'מזהם בפליטה/הזרמה' based on non-null values\n",
    "code_to_pollutant_mapping = data_cleaned.dropna(subset=['מזהם בפליטה/הזרמה']).groupby('קוד מזהם')['מזהם בפליטה/הזרמה'].first()\n",
    "\n",
    "# Step 2: Fill missing 'מזהם בפליטה/הזרמה' based on the mapping\n",
    "data_cleaned['מזהם בפליטה/הזרמה'] = data_cleaned['מזהם בפליטה/הזרמה'].fillna(data_cleaned['קוד מזהם'].map(code_to_pollutant_mapping))\n",
    "\n",
    "# Step 3: Check if there are still missing values in 'מזהם בפליטה/הזרמה'\n",
    "remaining_missing_pollutant = data_cleaned['מזהם בפליטה/הזרמה'].isnull().sum()\n",
    "\n",
    "# Return summary of the operation\n",
    "pollutant_completion_summary = {\n",
    "    \"missing_values_after_completion\": remaining_missing_pollutant,\n",
    "}\n",
    "pollutant_completion_summary\n"
   ]
  },
  {
   "cell_type": "markdown",
   "id": "5824ffe3-20c0-46de-bbc4-ca0a631d7d1f",
   "metadata": {},
   "source": [
    "# Now we will deal with the column of emission quantity discharged which includes a figure of \"below the reporting threshold\".\n",
    "# The column is numeric so we want to deal with this figure."
   ]
  },
  {
   "cell_type": "code",
   "execution_count": 30,
   "id": "e11863bf",
   "metadata": {},
   "outputs": [
    {
     "data": {
      "text/plain": [
       "True"
      ]
     },
     "execution_count": 30,
     "metadata": {},
     "output_type": "execute_result"
    }
   ],
   "source": [
    "# Check if \"מתחת לסף הדיווח\" exists in the 'כמות פליטה/הזרמה (ק\"ג)' column\n",
    "non_numeric_check = data_cleaned['כמות פליטה/הזרמה (ק\"ג)'].astype(str).str.contains(\"מתחת לסף הדיווח\").any()\n",
    "non_numeric_check\n"
   ]
  },
  {
   "cell_type": "markdown",
   "id": "e7027a3f-9901-404a-b7ef-e80da1a90fbd",
   "metadata": {},
   "source": [
    "According to a specification file we found for the report we are working on, we found that the value below the reporting threshold is 1 kg, so we chose to complete the values ​​below the reporting threshold with an average between 0 and 1."
   ]
  },
  {
   "cell_type": "code",
   "execution_count": 35,
   "id": "63d3b79b",
   "metadata": {},
   "outputs": [],
   "source": [
    "# Step 1: Replace \"מתחת לסף הדיווח\" with 0.5 in the 'כמות פליטה/הזרמה (ק\"ג)' column\n",
    "data_cleaned['כמות פליטה/הזרמה (ק\"ג)'] = data_cleaned['כמות פליטה/הזרמה (ק\"ג)'].replace(\"מתחת לסף הדיווח\", 0.5)\n",
    "\n",
    "# Return confirmation of changes\n",
    "replacement_summary = {\n",
    "    \"column_statistics\": data_cleaned['כמות פליטה/הזרמה (ק\"ג)'].describe()\n",
    "}\n",
    "#replacement_summary\n"
   ]
  },
  {
   "cell_type": "code",
   "execution_count": 37,
   "id": "9bc31b3b",
   "metadata": {},
   "outputs": [
    {
     "data": {
      "text/plain": [
       "0"
      ]
     },
     "execution_count": 37,
     "metadata": {},
     "output_type": "execute_result"
    }
   ],
   "source": [
    "# Step 1: Fill the single missing value in 'כמות פליטה/הזרמה (ק\"ג)' with 0.5\n",
    "data_cleaned['כמות פליטה/הזרמה (ק\"ג)'] = data_cleaned['כמות פליטה/הזרמה (ק\"ג)'].fillna(0.5)\n",
    "\n",
    "# Step 2: Verify that there are no more missing values in the column\n",
    "remaining_missing_emission = data_cleaned['כמות פליטה/הזרמה (ק\"ג)'].isnull().sum()\n",
    "\n",
    "# Return the result\n",
    "remaining_missing_emission\n",
    "\n"
   ]
  },
  {
   "cell_type": "code",
   "execution_count": 41,
   "id": "9d4ea667",
   "metadata": {},
   "outputs": [
    {
     "data": {
      "text/plain": [
       "כמות העברת פסולת לא מסוכנת לטיפול (טון)    814\n",
       "כמות העברת פסולת לא מסוכנת לסילוק (טון)    814\n",
       "כמות העברת פסולת מסוכנת לטיפול (טון)       814\n",
       "כמות העברת פסולת מסוכנת לסילוק (טון)       814\n",
       "dtype: int64"
      ]
     },
     "execution_count": 41,
     "metadata": {},
     "output_type": "execute_result"
    }
   ],
   "source": [
    "# Check the remaining missing values in the dataset\n",
    "remaining_missing_values = data_cleaned.isnull().sum()\n",
    "\n",
    "# Filter only columns with missing values\n",
    "remaining_missing_values = remaining_missing_values[remaining_missing_values > 0]\n",
    "remaining_missing_values\n"
   ]
  },
  {
   "cell_type": "markdown",
   "id": "36a176fc",
   "metadata": {},
   "source": [
    "A code that shows why we chose the factory name and pollutant code"
   ]
  },
  {
   "cell_type": "code",
   "execution_count": 44,
   "id": "450bf339",
   "metadata": {},
   "outputs": [
    {
     "data": {
      "text/plain": [
       "{'facility_variance_stats': count    522.0\n",
       " mean       0.0\n",
       " std        0.0\n",
       " min        0.0\n",
       " 25%        0.0\n",
       " 50%        0.0\n",
       " 75%        0.0\n",
       " max        0.0\n",
       " dtype: float64,\n",
       " 'code_variance_stats': count    8.000000e+01\n",
       " mean     1.933653e+09\n",
       " std      1.825834e+09\n",
       " min      6.826204e+05\n",
       " 25%      9.619398e+08\n",
       " 50%      1.548045e+09\n",
       " 75%      2.246268e+09\n",
       " max      9.630005e+09\n",
       " dtype: float64,\n",
       " 'local_authority': count    1.270000e+02\n",
       " mean     5.447696e+08\n",
       " std      2.164823e+09\n",
       " min      0.000000e+00\n",
       " 25%      0.000000e+00\n",
       " 50%      3.745908e+05\n",
       " 75%      2.137761e+07\n",
       " max      1.563511e+10\n",
       " dtype: float64}"
      ]
     },
     "execution_count": 44,
     "metadata": {},
     "output_type": "execute_result"
    }
   ],
   "source": [
    "# Step 1: Calculate variance within each 'שם מפעל'\n",
    "variance_by_facility = data_cleaned.groupby('שם מפעל')[\n",
    "    ['כמות העברת פסולת לא מסוכנת לטיפול (טון)',\n",
    "     'כמות העברת פסולת לא מסוכנת לסילוק (טון)',\n",
    "     'כמות העברת פסולת מסוכנת לטיפול (טון)',\n",
    "     'כמות העברת פסולת מסוכנת לסילוק (טון)']\n",
    "].var().mean(axis=1)\n",
    "\n",
    "# Step 2: Calculate variance within each 'קוד מזהם'\n",
    "variance_by_code = data_cleaned.groupby('קוד מזהם')[\n",
    "    ['כמות העברת פסולת לא מסוכנת לטיפול (טון)',\n",
    "     'כמות העברת פסולת לא מסוכנת לסילוק (טון)',\n",
    "     'כמות העברת פסולת מסוכנת לטיפול (טון)',\n",
    "     'כמות העברת פסולת מסוכנת לסילוק (טון)']\n",
    "].var().mean(axis=1)\n",
    "\n",
    "\n",
    "# Step 3: Calculate variance within each 'קוד מזהם'\n",
    "variance_by_local_authority = data_cleaned.groupby('רשות מקומית')[\n",
    "    ['כמות העברת פסולת לא מסוכנת לטיפול (טון)',\n",
    "     'כמות העברת פסולת לא מסוכנת לסילוק (טון)',\n",
    "     'כמות העברת פסולת מסוכנת לטיפול (טון)',\n",
    "     'כמות העברת פסולת מסוכנת לסילוק (טון)']\n",
    "].var().mean(axis=1)\n",
    "\n",
    "# Step 3: Summarize results\n",
    "variance_summary = {\n",
    "    \"facility_variance_stats\": variance_by_facility.describe(),\n",
    "    \"code_variance_stats\": variance_by_code.describe(),\n",
    "    \"local_authority\" :variance_by_local_authority.describe()\n",
    "}\n",
    "variance_summary\n"
   ]
  },
  {
   "cell_type": "markdown",
   "id": "8e8f81d3",
   "metadata": {},
   "source": [
    "Variance findings:\n",
    "Variance by factory name:\n",
    "\n",
    "The variance within factories is zero in all cases, which indicates that if we do not have quantities in a particular factory, it means that we do not have any quantity there, it is really missing data for the specific plant, so we cannot fill in missing values​with this column.\n",
    "\n",
    "Variance by pollutant code:\n",
    "\n",
    "The variance in the pollutant code column is very high, so it will not fit.\n",
    "\n",
    "The variance in the local authority column is higher than the pollutant code, so it will not fit either.\n"
   ]
  },
  {
   "cell_type": "markdown",
   "id": "a3bf06c0-b6aa-4c45-8b80-d9d7cb3b1438",
   "metadata": {},
   "source": [
    "# We will check the number of missing items in each row in percentages."
   ]
  },
  {
   "cell_type": "code",
   "execution_count": 46,
   "id": "f88c2ca3",
   "metadata": {},
   "outputs": [
    {
     "name": "stdout",
     "output_type": "stream",
     "text": [
      "עמודה: כמות העברת פסולת לא מסוכנת לטיפול (טון)\n",
      "מספר ה-NaN: 814\n",
      "האחוז של ה-NaN: 6.94%\n",
      "\n",
      "עמודה: כמות העברת פסולת לא מסוכנת לסילוק (טון)\n",
      "מספר ה-NaN: 814\n",
      "האחוז של ה-NaN: 6.94%\n",
      "\n",
      "עמודה: כמות העברת פסולת מסוכנת לטיפול (טון)\n",
      "מספר ה-NaN: 814\n",
      "האחוז של ה-NaN: 6.94%\n",
      "\n",
      "עמודה: כמות העברת פסולת מסוכנת לסילוק (טון)\n",
      "מספר ה-NaN: 814\n",
      "האחוז של ה-NaN: 6.94%\n",
      "\n"
     ]
    }
   ],
   "source": [
    "columns_to_check = [\n",
    "    'כמות העברת פסולת לא מסוכנת לטיפול (טון)',\n",
    "    'כמות העברת פסולת לא מסוכנת לסילוק (טון)',\n",
    "    'כמות העברת פסולת מסוכנת לטיפול (טון)',\n",
    "    'כמות העברת פסולת מסוכנת לסילוק (טון)'\n",
    "]\n",
    "\n",
    "for column in columns_to_check:\n",
    "    na_count = data_cleaned[column].isna().sum()  \n",
    "    na_percentage = (na_count / len(data_cleaned)) * 100  \n",
    "    print(f\"עמודה: {column}\")\n",
    "    print(f\"מספר ה-NaN: {na_count}\")\n",
    "    print(f\"האחוז של ה-NaN: {na_percentage:.2f}%\\n\")"
   ]
  },
  {
   "cell_type": "code",
   "execution_count": 49,
   "id": "06d9ace7",
   "metadata": {},
   "outputs": [
    {
     "name": "stdout",
     "output_type": "stream",
     "text": [
      "סהכ המפעלים עם : 566\n",
      "מספר המפעלים עם NaN: 40\n",
      "האחוז של המפעלים עם NaN מתוך כלל המפעלים: 7.07%\n"
     ]
    }
   ],
   "source": [
    "# רשימה של העמודות שברצונך לבדוק\n",
    "columns_to_check = [\n",
    "    'כמות העברת פסולת לא מסוכנת לטיפול (טון)',\n",
    "    'כמות העברת פסולת לא מסוכנת לסילוק (טון)',\n",
    "    'כמות העברת פסולת מסוכנת לטיפול (טון)',\n",
    "    'כמות העברת פסולת מסוכנת לסילוק (טון)'\n",
    "]\n",
    "\n",
    "\n",
    "rows_with_nan = data_cleaned[data_cleaned[columns_to_check].isna().any(axis=1)]\n",
    "\n",
    "factories_with_nan = rows_with_nan['שם מפעל'].nunique()\n",
    "\n",
    "total_factories = data_cleaned['שם מפעל'].nunique()\n",
    "\n",
    "nan_percentage = (factories_with_nan / total_factories) * 100\n",
    "\n",
    "print(f\"סהכ המפעלים עם : {total_factories}\")\n",
    "\n",
    "print(f\"מספר המפעלים עם NaN: {factories_with_nan}\")\n",
    "\n",
    "print(f\"האחוז של המפעלים עם NaN מתוך כלל המפעלים: {nan_percentage:.2f}%\")\n"
   ]
  },
  {
   "cell_type": "markdown",
   "id": "51638375",
   "metadata": {},
   "source": [
    "# According to what we see, there are not many factories with NaN relative to all the factories in the data.\n",
    "# We tried to fill these values ​​in creative ways such as checking standard deviations, and we saw that there were considerable deviations that could harm the accuracy of the model, so we decided to remove these factories completely. The quantity columns are the most critical for us because these are the quantitative data of the emission, and if we don't have them, we have no way to fill them reliably, so it is better to remove them as long as they are a very small part of the data."
   ]
  },
  {
   "cell_type": "code",
   "execution_count": 53,
   "id": "72131b53",
   "metadata": {},
   "outputs": [],
   "source": [
    "# רשימה של העמודות שברצונך לבדוק\n",
    "columns_to_check = [\n",
    "    'כמות העברת פסולת לא מסוכנת לטיפול (טון)',\n",
    "    'כמות העברת פסולת לא מסוכנת לסילוק (טון)',\n",
    "    'כמות העברת פסולת מסוכנת לטיפול (טון)',\n",
    "    'כמות העברת פסולת מסוכנת לסילוק (טון)'\n",
    "]\n",
    "\n",
    "data_cleaned = data_cleaned.dropna(subset=columns_to_check)\n"
   ]
  },
  {
   "cell_type": "code",
   "execution_count": 55,
   "id": "7340cb3a",
   "metadata": {},
   "outputs": [
    {
     "data": {
      "text/plain": [
       "Series([], dtype: int64)"
      ]
     },
     "execution_count": 55,
     "metadata": {},
     "output_type": "execute_result"
    }
   ],
   "source": [
    "# Check the remaining missing values in the dataset\n",
    "remaining_missing_values = data_cleaned.isnull().sum()\n",
    "\n",
    "# Filter only columns with missing values\n",
    "remaining_missing_values = remaining_missing_values[remaining_missing_values > 0]\n",
    "remaining_missing_values\n"
   ]
  },
  {
   "cell_type": "code",
   "execution_count": 63,
   "id": "5c051384",
   "metadata": {},
   "outputs": [],
   "source": [
    "# Download a clean data file to begin classification\n",
    "\n",
    "#file_path = \"C:\\\\Users\\\\brown\\\\Desktop\\\\שנה ד\\\\סמסטר א\\\\נושאים מתקדמים למידת מכונה\\\\פרויקט.data_cleaned.xlsx\"\n",
    "#data_cleaned.to_excel(file_path, index=False)"
   ]
  },
  {
   "cell_type": "code",
   "execution_count": null,
   "id": "b6f211fc",
   "metadata": {},
   "outputs": [],
   "source": []
  }
 ],
 "metadata": {
  "kernelspec": {
   "display_name": "Python [conda env:base] *",
   "language": "python",
   "name": "conda-base-py"
  },
  "language_info": {
   "codemirror_mode": {
    "name": "ipython",
    "version": 3
   },
   "file_extension": ".py",
   "mimetype": "text/x-python",
   "name": "python",
   "nbconvert_exporter": "python",
   "pygments_lexer": "ipython3",
   "version": "3.12.7"
  }
 },
 "nbformat": 4,
 "nbformat_minor": 5
}
